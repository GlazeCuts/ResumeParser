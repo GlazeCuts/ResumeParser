{
 "cells": [
  {
   "cell_type": "code",
   "execution_count": 10,
   "id": "d532a7d2",
   "metadata": {},
   "outputs": [],
   "source": [
    "import pdfplumber\n",
    "import spacy\n",
    "from spacy.lang.en.examples import sentences \n",
    "from spacy.matcher import Matcher\n",
    "import re\n"
   ]
  },
  {
   "cell_type": "code",
   "execution_count": 2,
   "id": "f2d415fe",
   "metadata": {},
   "outputs": [],
   "source": [
    "#Example Resume PDF\n",
    "path = r\"D:\\VScode\\CODES\\AIMLBasedProjects\\ResumeParser\\Sample_Resume.pdf\"\n",
    "def loadPDF(path):\n",
    "    pdf_texts = \"\"\n",
    "    with pdfplumber.open(path) as pdf:\n",
    "        for page in pdf.pages:\n",
    "            pdf_texts += page.extract_text()\n",
    "    return pdf_texts\n",
    "pdftexts = loadPDF(path)"
   ]
  },
  {
   "cell_type": "code",
   "execution_count": 3,
   "id": "7853b5b5",
   "metadata": {},
   "outputs": [
    {
     "data": {
      "text/plain": [
       "'1 9876543210'"
      ]
     },
     "execution_count": 3,
     "metadata": {},
     "output_type": "execute_result"
    }
   ],
   "source": [
    "#Finding contact Number\n",
    "def contact_number(text):\n",
    "    number = None\n",
    "    pattern = r\"\\b(?:\\+?\\d{1,3}[-.\\s]?)?\\(?\\d{3}\\)?[-.\\s]?\\d{3}[-.\\s]?\\d{4}\\b\"\n",
    "    match = re.search(pattern, text)\n",
    "    if match:\n",
    "        number = match.group()\n",
    "    return number\n",
    "contact_number(pdftexts)"
   ]
  },
  {
   "cell_type": "code",
   "execution_count": 4,
   "id": "beacfcb8",
   "metadata": {},
   "outputs": [
    {
     "data": {
      "text/plain": [
       "'alex.carter@example.com'"
      ]
     },
     "execution_count": 4,
     "metadata": {},
     "output_type": "execute_result"
    }
   ],
   "source": [
    "#Finding Email\n",
    "def extract_email(text):\n",
    "    email = None\n",
    "    pattern = r\"\\b[A-Za-z0-9._%+-]+@[A-Za-z0-9.-]+\\.[A-Za-z]{2,}\\b\"\n",
    "    match = re.search(pattern, text)\n",
    "    if match:\n",
    "        email = match.group()\n",
    "    return email\n",
    "extract_email(pdftexts)"
   ]
  },
  {
   "cell_type": "code",
   "execution_count": 5,
   "id": "ebaa893e",
   "metadata": {},
   "outputs": [],
   "source": [
    "#Example Skill lists\n",
    "skills_list = [\"Python\", \"Java\", \"C++\", \"JavaScript\", \"TypeScript\", \"SQL\", \"MATLAB\",\"HTML\", \"CSS\", \"PHP\", \"Swift\", \"Kotlin\", \"Go\", \"Ruby\", \"Scala\", \"Bash\",\"Pandas\", \"NumPy\", \"Matplotlib\", \"Seaborn\", \"Scikit-learn\", \"TensorFlow\",\"Keras\", \"PyTorch\", \"OpenCV\", \"XGBoost\", \"LightGBM\", \"NLTK\", \"spaCy\",\n",
    "    \"Computer Vision\", \"Deep Learning\", \"NLP\", \"Machine Learning\", \"Data Analysis\",\"Data Visualization\", \"Model Deployment\",\"Git\", \"GitHub\", \"JIRA\", \"Docker\", \"Kubernetes\", \"Linux\", \"Shell Scripting\",\n",
    "    \"AWS\", \"GCP\", \"Azure\", \"Firebase\", \"PostgreSQL\", \"MySQL\", \"MongoDB\", \"Tableau\", \"Power BI\", \"Figma\", \"Jenkins\", \"Apache Spark\", \"Hadoop\", \"Airflow\",\"Communication\", \"Teamwork\", \"Problem Solving\", \"Leadership\",\n",
    "    \"Adaptability\", \"Creativity\", \"Time Management\", \"Critical Thinking\",\"Collaboration\", \"Project Management\", \"Agile Methodology\", \"Scrum\", \"Business Analysis\", \"Financial Modeling\", \"Digital Marketing\",\n",
    "    \"Social Media Management\", \"SEO\", \"SEM\", \"CRM\", \"UI/UX Design\",\"Web Development\", \"App Development\", \"Game Development\"]"
   ]
  },
  {
   "cell_type": "code",
   "execution_count": 6,
   "id": "cb4550dd",
   "metadata": {},
   "outputs": [
    {
     "data": {
      "text/plain": [
       "['Python',\n",
       " 'Java',\n",
       " 'SQL',\n",
       " 'TensorFlow',\n",
       " 'PyTorch',\n",
       " 'spaCy',\n",
       " 'Machine Learning',\n",
       " 'Git',\n",
       " 'AWS',\n",
       " 'PostgreSQL']"
      ]
     },
     "execution_count": 6,
     "metadata": {},
     "output_type": "execute_result"
    }
   ],
   "source": [
    "def extract_skills(text, skills_list):\n",
    "    skills = []\n",
    "\n",
    "    for skill in skills_list:\n",
    "        pattern = r\"\\b{}\\b\".format(re.escape(skill))\n",
    "        match = re.search(pattern, text, re.IGNORECASE)\n",
    "        if match:\n",
    "            skills.append(skill)\n",
    "\n",
    "    return skills\n",
    "extract_skills(pdftexts,skills_list)"
   ]
  },
  {
   "cell_type": "code",
   "execution_count": 7,
   "id": "70d4dfa9",
   "metadata": {},
   "outputs": [
    {
     "data": {
      "text/plain": [
       "['B.Tech in Computer Science']"
      ]
     },
     "execution_count": 7,
     "metadata": {},
     "output_type": "execute_result"
    }
   ],
   "source": [
    "#extracting Education stream\n",
    "def extract_education(text):\n",
    "    education = []\n",
    "    pattern = r\"(?i)(?:Bsc|\\bB\\.\\w+|\\bM\\.\\w+|\\bPh\\.D\\.\\w+|\\bBachelor(?:'s)?|\\bMaster(?:'s)?|\\bPh\\.D)\\s(?:\\w+\\s)*\\w+\"\n",
    "    matches = re.findall(pattern, text)\n",
    "    for match in matches:\n",
    "        education.append(match.strip())\n",
    "\n",
    "    return education\n",
    "extract_education(pdftexts)"
   ]
  },
  {
   "cell_type": "code",
   "execution_count": 8,
   "id": "3d082e21",
   "metadata": {},
   "outputs": [],
   "source": [
    "#extracting name\n",
    "def extract_name(text):\n",
    "    nlp = spacy.load('en_core_web_sm')\n",
    "    matcher = Matcher(nlp.vocab)\n",
    "\n",
    "    # Define name patterns\n",
    "    patterns = [\n",
    "        [{'POS': 'PROPN'}, {'POS': 'PROPN'}],  # First name and Last name\n",
    "        [{'POS': 'PROPN'}, {'POS': 'PROPN'}, {'POS': 'PROPN'}],  # First name, Middle name, and Last name\n",
    "        [{'POS': 'PROPN'}, {'POS': 'PROPN'}, {'POS': 'PROPN'}, {'POS': 'PROPN'}]  # First name, Middle name, Middle name, and Last name\n",
    "        # Add more patterns as needed\n",
    "    ]\n",
    "\n",
    "    for pattern in patterns:\n",
    "        matcher.add('NAME', patterns=[pattern])\n",
    "\n",
    "    doc = nlp(text)\n",
    "    matches = matcher(doc)\n",
    "\n",
    "    for match_id, start, end in matches:\n",
    "        span = doc[start:end]\n",
    "        return span.text\n",
    "\n",
    "    return None"
   ]
  },
  {
   "cell_type": "code",
   "execution_count": 9,
   "id": "8237eb21",
   "metadata": {},
   "outputs": [
    {
     "name": "stdout",
     "output_type": "stream",
     "text": [
      "Name: Alex Carter\n",
      "Email: alex.carter@example.com\n",
      "Phone: 1 9876543210\n",
      "Skills: ['Python', 'Java', 'SQL', 'TensorFlow', 'PyTorch', 'spaCy', 'Machine Learning', 'Git', 'AWS', 'PostgreSQL']\n",
      "Education: ['B.Tech in Computer Science']\n"
     ]
    }
   ],
   "source": [
    "#displaying\n",
    "name = extract_name(pdftexts)\n",
    "email = extract_email(pdftexts)\n",
    "phone = contact_number(pdftexts)\n",
    "skills = extract_skills(pdftexts,skills_list)\n",
    "education = extract_education(pdftexts)\n",
    "\n",
    "print(f\"Name: {name}\")\n",
    "print(f\"Email: {email}\")\n",
    "print(f\"Phone: {phone}\")\n",
    "print(f\"Skills: {skills}\")\n",
    "print(f\"Education: {education}\")\n",
    "\n"
   ]
  }
 ],
 "metadata": {
  "kernelspec": {
   "display_name": ".venv",
   "language": "python",
   "name": "python3"
  },
  "language_info": {
   "codemirror_mode": {
    "name": "ipython",
    "version": 3
   },
   "file_extension": ".py",
   "mimetype": "text/x-python",
   "name": "python",
   "nbconvert_exporter": "python",
   "pygments_lexer": "ipython3",
   "version": "3.11.9"
  }
 },
 "nbformat": 4,
 "nbformat_minor": 5
}
